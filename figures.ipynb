{
 "cells": [
  {
   "cell_type": "code",
   "execution_count": null,
   "id": "23562ad8",
   "metadata": {},
   "outputs": [],
   "source": [
    "import matplotlib.pyplot as plt\n",
    "from sklearn.linear_model import LinearRegression"
   ]
  },
  {
   "cell_type": "code",
   "execution_count": null,
   "id": "15cab457",
   "metadata": {},
   "outputs": [],
   "source": [
    "sizeT   = [ 27, 256, 3125, 46656, 823543, 16777216, 387420489 ]\n",
    "time_T_fp = [19, 60, 113, 276, 1310, 7791, 53907]\n",
    "mem_T_fp  = [1060689, 4082269, 15138055, 65507523, 312953584, 1838786626, 12286455557]\n",
    "time_T_char =  [82, 208, 1730, 32075, 662978]\n",
    "mem_T_char  =  [5990181, 40423073, 459899014, 7838456751, 156542278529]\n",
    "time_T_cart =  [29, 183, 1795, 32591, 677932]\n",
    "mem_T_cart  =  [7214993, 44901896, 475789948, 7905660230, 157185224619]"
   ]
  },
  {
   "cell_type": "code",
   "execution_count": null,
   "id": "3984b933",
   "metadata": {},
   "outputs": [],
   "source": [
    "sizeL43 = [ 78, 40, 56, 62, 106, 46, 50, 21, 17, 11 ]\n",
    "sizeL53 = [ 1292, 321, 70, 361, 57, 12, 18, 305, 910, 123 ]\n",
    "sizeL54 = [ 757, 1033, 1557, 2891, 839, 29, 165, 819, 409, 385 ]\n",
    "sizeL65 = [ 3129, 6901, 10656, 1090, 10239, 13522, 1480, 6072, 4116, 1839 ]\n",
    "sizeL76 = [ 11943, 25083, 18005, 24676, 40024, 22917, 131192, 14625, 46977, 4455 ]\n",
    "sizeL98 = [ 97402, 289884, 16907485, 1084724, 676548, 137368, 286348, 1637354, 3842326, 8106944 ]"
   ]
  },
  {
   "cell_type": "code",
   "execution_count": null,
   "id": "efc11d35",
   "metadata": {},
   "outputs": [],
   "source": [
    "time_fp_L43 = [9, 11, 16, 15, 15, 19, 14, 7, 9, 6]\n",
    "mem_fp_L43  = [3373885, 2816862, 4206269, 3520691, 4003231, 4284389, 3492916, 2740652, 2869767, 2364254]\n",
    "\n",
    "time_fp_L53 = [37, 20, 17, 149, 19, 4, 11, 30, 41, 23]\n",
    "mem_fp_L53  = [9386655, 5587477, 4655997, 14777359, 5896099, 1802645, 3736006, 7767512, 11179332, 6451314]\n",
    "\n",
    "time_fp_L54 = [30, 58, 47, 67, 75, 8, 21, 28, 21, 34]\n",
    "mem_fp_L54  = [7475369, 10920817, 9942606, 15287273, 18629599, 3185842, 5658788, 7597236, 6164008, 9088611]\n",
    "\n",
    "time_fp_L65 = [428, 89, 106, 51, 108, 819, 49, 240, 51, 58]\n",
    "mem_fp_L65  = [102784865, 21005627, 23957144, 13437488, 26322576, 202254995, 12557400, 59621385, 13065269, 14937594]\n",
    "\n",
    "time_fp_L76 = [296, 712, 951, 1607, 1227, 1160, 1626, 496, 505, 91]\n",
    "mem_fp_L76  = [73612728, 174308224, 235602620, 401846251, 306376509, 288498718, 396208847, 125043566, 126019121, 21593683]\n",
    "\n",
    "time_fp_L98 = [16477, 13561, 726253, 38285, 43573, 7338, 4019, 31760, 59340, 46272]\n",
    "mem_fp_L98  = [3744365606, 2706826061, 168804977994, 9253039727, 10259261089, 1714100287, 865322907, 7617794460, 14149921011, 11084638172]"
   ]
  },
  {
   "cell_type": "code",
   "execution_count": null,
   "id": "93f6f546",
   "metadata": {},
   "outputs": [],
   "source": [
    "time_char_L43 =  [48, 29, 67, 94, 46, 29, 57, 10, 8, 7]\n",
    "mem_char_L43  =  [11879835, 7401555, 15614982, 11600303, 11492959, 7392929, 14821932, 3155532, 2422384, 2845453]\n",
    "\n",
    "time_char_L53 =  [578, 129, 12, 183, 27, 8, 13, 288, 414, 58]\n",
    "mem_char_L53  =  [139878619, 31456850, 4161275, 46836075, 6946354, 2758943, 4151909, 60356240, 103224507, 13885341]\n",
    "\n",
    "time_char_L54 =  [269, 525, 1051, 1850, 415, 35, 69, 270, 177, 790]\n",
    "mem_char_L54  =  [66390812, 109546174, 195648229, 403221446, 100757937, 8922993, 16873575, 66473724, 44656838, 199175807]\n",
    "\n",
    "time_char_L65 =  [1150, 6747, 5334, 591, 5565, 4266, 704, 43989, 8519, 558]\n",
    "mem_char_L65  =  [265125412, 1539305709, 1242653903, 139329559, 1330795430, 1004229304, 161595907, 10270806162, 1829873649, 128610821]\n",
    "\n",
    "time_char_L76 =  [9364, 134627, 3928, 152185, 20546, 92537, 115595, 23138, 174791, 2929]\n",
    "mem_char_L76  =  [1758651920, 27048563642, 860427016, 28550229102, 3246577811, 17366374631, 22871212167, 4293330033, 29134443474, 564335560]"
   ]
  },
  {
   "cell_type": "code",
   "execution_count": null,
   "id": "d0c111dc",
   "metadata": {},
   "outputs": [],
   "source": [
    "time_cart_L43 =  [66, 38, 81, 54, 56, 43, 66, 17, 13, 13]\n",
    "mem_cart_L43  =  [14529439, 8880434, 18492995, 13697013, 14095661, 10270144, 16876922, 4455252, 4047905, 3750590]\n",
    "\n",
    "time_cart_L53 =  [574, 152, 27, 232, 43, 11, 23, 252, 468, 70]\n",
    "mem_cart_L53  =  [147410942, 35394979, 7259995, 59814684, 11279669, 3518277, 6350754, 66387138, 112230745, 18475321]\n",
    "\n",
    "time_cart_L54 =  [283, 457, 800, 1610, 463, 44, 88, 284, 188, 775]\n",
    "mem_cart_L54  =  [72035873, 118674515, 203565049, 416502405, 117303570, 10665168, 20982016, 72297852, 48933020, 206393510]\n",
    "\n",
    "time_cart_L65 =  [1457, 6723, 5192, 614, 5545, 4899, 760, 44138, 8661, 575]\n",
    "mem_cart_L65  =  [365253485, 1558156175, 1264419264, 150591557, 1354840581, 1203813061, 172218431, 10327326186, 1840760322, 141399973]\n",
    "\n",
    "time_cart_L76 =  [9653, 124296, 5071, 140385, 17334, 83851, 109946, 21430, 159928, 2757]\n",
    "mem_cart_L76  =  [1829433179, 27220051641, 1093337145, 28942594378, 3549886914, 17649226944, 23264122619, 4412290221, 29255012782, 583568779]"
   ]
  },
  {
   "cell_type": "code",
   "execution_count": null,
   "id": "4244527c",
   "metadata": {},
   "outputs": [],
   "source": [
    "s = \"\"\"rec( mem := 7214993, t := 29653726, x := \"T3\" ), \n",
    "  rec( mem := 44901896, t := 183715258, x := \"T4\" ), \n",
    "  rec( mem := 475789948, t := 1795947328, x := \"T5\" ), \n",
    "  rec( mem := 7905660230, t := 32591273031, x := \"T6\" ), \n",
    "  rec( mem := 157185224619, t := 677932869150, x := \"T7\" )\"\"\".split()"
   ]
  },
  {
   "cell_type": "code",
   "execution_count": null,
   "id": "a535433f",
   "metadata": {},
   "outputs": [],
   "source": [
    "print(str(s[9][1:3]), \"= \", [int(s[6+11*k][:-1])//10**6 for k in range(5)])\n",
    "print(str(s[9][1:3]), \" = \", [int(s[3+11*k][:-1]) for k in range(5)])"
   ]
  },
  {
   "cell_type": "code",
   "execution_count": null,
   "id": "4453a140",
   "metadata": {},
   "outputs": [],
   "source": [
    "def log_regr(X, Y):\n",
    "    logX = [[log(x)] for x in X]\n",
    "    logY = [log(y) for y in Y]\n",
    "    \n",
    "    regr = LinearRegression()\n",
    "    regr.fit(logX, logY)\n",
    "    a = regr.coef_[0]\n",
    "    b = regr.intercept_\n",
    "    \n",
    "    return (a, [exp(a*logx[0]+b) for logx in logX])"
   ]
  },
  {
   "cell_type": "code",
   "execution_count": null,
   "id": "bf10f567",
   "metadata": {},
   "outputs": [],
   "source": [
    "def my_plot(X, Y, ylabel, fname, XT = None, YT = None):\n",
    "\n",
    "    fig, ax = plt.subplots(figsize = (6, 6))\n",
    "    ax.axis('equal')\n",
    "    \n",
    "    a, R = log_regr(X, Y)\n",
    "    plt.plot(X, R, color = 'b', linewidth = 1, label = f'Linear regression (a = {a:.2f})' )\n",
    "    plt.scatter(X, Y, s = 15, color = 'b', label = f'Random monoids')\n",
    "    if XT is not None:\n",
    "        a, R = log_regr(XT, YT)\n",
    "        plt.plot(XT, R, color = 'y', linewidth = 1, label = f'Linear regression (a = {a:.2f})' )\n",
    "        plt.scatter(XT, YT, s = 20, color = 'y', label = f\"$T_n, n = 3...{2+len(XT)}$\")\n",
    "    plt.yscale(\"log\")\n",
    "    plt.xscale(\"log\")\n",
    "    plt.ylabel(ylabel)\n",
    "    plt.xlabel(\"Cardinality\")\n",
    "    ax.legend(loc = 'upper left')\n",
    "    ax.legend(frameon=False)\n",
    "    plt.savefig(fname, format = \"eps\")\n",
    "    \n",
    "    return"
   ]
  },
  {
   "cell_type": "code",
   "execution_count": null,
   "id": "3c56ec24",
   "metadata": {},
   "outputs": [],
   "source": [
    "sizes_fp = sizeL43 + sizeL53 + sizeL54 + sizeL65 + sizeL76 + sizeL98\n",
    "time_fp  = time_fp_L43 + time_fp_L53 + time_fp_L54 + time_fp_L65 + time_fp_L76 + time_fp_L98\n",
    "mem_fp   = mem_fp_L43 + mem_fp_L53 + mem_fp_L54 + mem_fp_L65 + mem_fp_L76 + mem_fp_L98\n",
    "\n",
    "my_plot(sizes_fp, time_fp, \"Computation time (ms)\", \"fp_time.eps\", sizeT, time_T_fp)"
   ]
  },
  {
   "cell_type": "code",
   "execution_count": null,
   "id": "c0bfbd47",
   "metadata": {},
   "outputs": [],
   "source": [
    "my_plot(sizes_fp, mem_fp, \"Memory allocated (bytes)\", \"fp_mem.eps\", sizeT, mem_T_fp)"
   ]
  },
  {
   "cell_type": "code",
   "execution_count": null,
   "id": "2021f8db",
   "metadata": {},
   "outputs": [],
   "source": [
    "sizes_char = sizeL43 + sizeL53 + sizeL54 + sizeL65 + sizeL76\n",
    "time_char  = time_char_L43 + time_char_L53 + time_char_L54 + time_char_L65 + time_char_L76\n",
    "mem_char   = mem_char_L43 + mem_char_L53 + mem_char_L54 + mem_char_L65 + mem_char_L76"
   ]
  },
  {
   "cell_type": "code",
   "execution_count": null,
   "id": "0f9d1f2c",
   "metadata": {},
   "outputs": [],
   "source": [
    "my_plot(sizes_char, time_char, \"Computation time (ms)\", \"char_time.eps\", sizeT[:5], time_T_char)"
   ]
  },
  {
   "cell_type": "code",
   "execution_count": null,
   "id": "7d957dc0",
   "metadata": {},
   "outputs": [],
   "source": [
    "my_plot(sizes_char, mem_char, \"Memory allocated (bytes)\", \"char_mem.eps\", sizeT[:5], mem_T_cart)"
   ]
  },
  {
   "cell_type": "code",
   "execution_count": null,
   "id": "4accf6d2",
   "metadata": {},
   "outputs": [],
   "source": [
    "sizes_cart = sizeL43 + sizeL53 + sizeL54 + sizeL65 + sizeL76\n",
    "time_cart  = time_cart_L43 + time_cart_L53 + time_cart_L54 + time_cart_L65 + time_cart_L76\n",
    "mem_cart   = mem_cart_L43  + mem_cart_L53  + mem_cart_L54  + mem_cart_L65  + mem_cart_L76"
   ]
  },
  {
   "cell_type": "code",
   "execution_count": null,
   "id": "86e4e4b6",
   "metadata": {},
   "outputs": [],
   "source": [
    "my_plot(sizes_cart, time_cart, \"Computation time (ms)\", \"cart_time.eps\", sizeT[:5], time_T_cart)"
   ]
  },
  {
   "cell_type": "code",
   "execution_count": null,
   "id": "a024046a",
   "metadata": {},
   "outputs": [],
   "source": [
    "my_plot(sizes_cart, mem_cart, \"Computation time (ms)\", \"cart_mem.eps\", sizeT[:5], mem_T_cart)"
   ]
  }
 ],
 "metadata": {
  "kernelspec": {
   "display_name": "SageMath 9.5",
   "language": "sage",
   "name": "sagemath"
  },
  "language_info": {
   "codemirror_mode": {
    "name": "ipython",
    "version": 3
   },
   "file_extension": ".py",
   "mimetype": "text/x-python",
   "name": "python",
   "nbconvert_exporter": "python",
   "pygments_lexer": "ipython3",
   "version": "3.9.9"
  }
 },
 "nbformat": 4,
 "nbformat_minor": 5
}
